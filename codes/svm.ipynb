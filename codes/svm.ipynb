{
 "cells": [
  {
   "cell_type": "markdown",
   "metadata": {},
   "source": [
    "SVM"
   ]
  },
  {
   "cell_type": "code",
   "execution_count": 23,
   "metadata": {},
   "outputs": [],
   "source": [
    "# import libraries\n",
    "import numpy as np\n",
    "import pandas as pd\n",
    "import matplotlib.pyplot as plt\n",
    "import seaborn as sns\n",
    "from sklearn.svm import SVC\n",
    "from sklearn.model_selection import GridSearchCV\n",
    "from sklearn.model_selection import train_test_split\n",
    "from sklearn.feature_extraction.text import CountVectorizer\n",
    "from sklearn.metrics import accuracy_score\n",
    "from sklearn.metrics import precision_recall_fscore_support\n",
    "from sklearn.metrics import precision_score\n",
    "from sklearn.metrics import recall_score\n",
    "from sklearn.metrics import confusion_matrix\n",
    "#set the seed \n",
    "np.random.seed(1)\n",
    "#load the data \n",
    "df=pd.read_csv(\"Trump_fb_statuses_cleaned.csv\")"
   ]
  },
  {
   "cell_type": "markdown",
   "metadata": {},
   "source": [
    "Data cleaning part"
   ]
  },
  {
   "cell_type": "code",
   "execution_count": 24,
   "metadata": {},
   "outputs": [
    {
     "data": {
      "text/html": [
       "<div>\n",
       "<style scoped>\n",
       "    .dataframe tbody tr th:only-of-type {\n",
       "        vertical-align: middle;\n",
       "    }\n",
       "\n",
       "    .dataframe tbody tr th {\n",
       "        vertical-align: top;\n",
       "    }\n",
       "\n",
       "    .dataframe thead th {\n",
       "        text-align: right;\n",
       "    }\n",
       "</style>\n",
       "<table border=\"1\" class=\"dataframe\">\n",
       "  <thead>\n",
       "    <tr style=\"text-align: right;\">\n",
       "      <th></th>\n",
       "      <th>Unnamed: 0</th>\n",
       "      <th>status_message</th>\n",
       "      <th>num_comments</th>\n",
       "      <th>num_shares</th>\n",
       "      <th>num_likes</th>\n",
       "      <th>num_loves</th>\n",
       "      <th>num_wows</th>\n",
       "      <th>num_hahas</th>\n",
       "      <th>num_sads</th>\n",
       "      <th>num_angrys</th>\n",
       "      <th>label</th>\n",
       "    </tr>\n",
       "  </thead>\n",
       "  <tbody>\n",
       "    <tr>\n",
       "      <th>0</th>\n",
       "      <td>0</td>\n",
       "      <td>Beautiful evening in Wisconsin- THANK YOU for ...</td>\n",
       "      <td>543</td>\n",
       "      <td>359</td>\n",
       "      <td>6178</td>\n",
       "      <td>572</td>\n",
       "      <td>39</td>\n",
       "      <td>17</td>\n",
       "      <td>0</td>\n",
       "      <td>7</td>\n",
       "      <td>0</td>\n",
       "    </tr>\n",
       "    <tr>\n",
       "      <th>1</th>\n",
       "      <td>1</td>\n",
       "      <td>The State Department's quid pro quo scheme pro...</td>\n",
       "      <td>3644</td>\n",
       "      <td>17653</td>\n",
       "      <td>26649</td>\n",
       "      <td>487</td>\n",
       "      <td>1155</td>\n",
       "      <td>75</td>\n",
       "      <td>191</td>\n",
       "      <td>5211</td>\n",
       "      <td>0</td>\n",
       "    </tr>\n",
       "    <tr>\n",
       "      <th>2</th>\n",
       "      <td>2</td>\n",
       "      <td>Crooked Hillary's State Department colluded wi...</td>\n",
       "      <td>8810</td>\n",
       "      <td>32594</td>\n",
       "      <td>73519</td>\n",
       "      <td>2943</td>\n",
       "      <td>1020</td>\n",
       "      <td>330</td>\n",
       "      <td>263</td>\n",
       "      <td>7552</td>\n",
       "      <td>1</td>\n",
       "    </tr>\n",
       "    <tr>\n",
       "      <th>3</th>\n",
       "      <td>3</td>\n",
       "      <td>JournoCash: Media gives $382,000 to Clinton, $...</td>\n",
       "      <td>3665</td>\n",
       "      <td>5082</td>\n",
       "      <td>14029</td>\n",
       "      <td>122</td>\n",
       "      <td>2091</td>\n",
       "      <td>241</td>\n",
       "      <td>286</td>\n",
       "      <td>5927</td>\n",
       "      <td>0</td>\n",
       "    </tr>\n",
       "    <tr>\n",
       "      <th>4</th>\n",
       "      <td>4</td>\n",
       "      <td>Exclusive: \"O'Keefe Video Sting Exposes 'Bird-...</td>\n",
       "      <td>4905</td>\n",
       "      <td>17087</td>\n",
       "      <td>26472</td>\n",
       "      <td>178</td>\n",
       "      <td>2588</td>\n",
       "      <td>154</td>\n",
       "      <td>417</td>\n",
       "      <td>10922</td>\n",
       "      <td>0</td>\n",
       "    </tr>\n",
       "  </tbody>\n",
       "</table>\n",
       "</div>"
      ],
      "text/plain": [
       "   Unnamed: 0                                     status_message  \\\n",
       "0           0  Beautiful evening in Wisconsin- THANK YOU for ...   \n",
       "1           1  The State Department's quid pro quo scheme pro...   \n",
       "2           2  Crooked Hillary's State Department colluded wi...   \n",
       "3           3  JournoCash: Media gives $382,000 to Clinton, $...   \n",
       "4           4  Exclusive: \"O'Keefe Video Sting Exposes 'Bird-...   \n",
       "\n",
       "   num_comments  num_shares  num_likes  num_loves  num_wows  num_hahas  \\\n",
       "0           543         359       6178        572        39         17   \n",
       "1          3644       17653      26649        487      1155         75   \n",
       "2          8810       32594      73519       2943      1020        330   \n",
       "3          3665        5082      14029        122      2091        241   \n",
       "4          4905       17087      26472        178      2588        154   \n",
       "\n",
       "   num_sads  num_angrys  label  \n",
       "0         0           7      0  \n",
       "1       191        5211      0  \n",
       "2       263        7552      1  \n",
       "3       286        5927      0  \n",
       "4       417       10922      0  "
      ]
     },
     "execution_count": 24,
     "metadata": {},
     "output_type": "execute_result"
    }
   ],
   "source": [
    "# average number of the column \"num_reactions\"\n",
    "df[\"num_reactions\"].mean()\n",
    "# add a new column \"label\" to the dataframe, if the number of reactions is greater than the average, then the label is 1, otherwise the label is 0\n",
    "df[\"label\"]=df[\"num_reactions\"].apply(lambda x: 1 if x>df[\"num_reactions\"].mean() else 0)\n",
    "# drop the column \"num_reactions\"\n",
    "df.drop(\"num_reactions\",axis=1,inplace=True)\n",
    "# drop the column \"status_published\" and \"status_type\"\n",
    "df.drop([\"status_published\",\"status_type\"],axis=1,inplace=True)\n",
    "df.head()"
   ]
  },
  {
   "cell_type": "markdown",
   "metadata": {},
   "source": [
    "Class distribution"
   ]
  },
  {
   "cell_type": "code",
   "execution_count": 25,
   "metadata": {},
   "outputs": [
    {
     "data": {
      "image/png": "[encoded data removed]",
      "text/plain": [
       "<Figure size 432x288 with 1 Axes>"
      ]
     },
     "metadata": {},
     "output_type": "display_data"
    }
   ],
   "source": [
    "y=df[\"label\"]\n",
    "#plot the distribution of two classes\n",
    "sns.set_theme()\n",
    "plt.hist(y)\n",
    "plt.title(\"The distribution of the class\",fontsize=18)\n",
    "plt.xlabel(\"Class\",fontsize=16)\n",
    "plt.ylabel(\"Counts\",fontsize=16)\n",
    "df.head()\n",
    "\n",
    "# first 500 rows of the dataframe\n",
    "df=df[:1000]\n"
   ]
  },
  {
   "cell_type": "markdown",
   "metadata": {},
   "source": [
    "Use a baseline model for comparsion"
   ]
  },
  {
   "cell_type": "code",
   "execution_count": 26,
   "metadata": {},
   "outputs": [
    {
     "name": "stdout",
     "output_type": "stream",
     "text": [
      "-----RANDOM CLASSIFIER-----\n",
      "accuracy 0.4953862378064856\n",
      "percision, recall, fscore, (array([0.59915164, 0.3927635 ]), array([0.49388112, 0.49767442]), array([0.54144705, 0.43903869]), array([2288, 1505]))\n"
     ]
    }
   ],
   "source": [
    "#set a baseline model which random predict label\n",
    "def random_classifier(y_data):\n",
    "    ypred=[]\n",
    "    max_label=np.max(y_data); #print(max_label)\n",
    "    for i in range(0,len(y_data)):\n",
    "        ypred.append(int(np.floor((max_label+1)*np.random.uniform(0,1))))\n",
    "    print(\"-----RANDOM CLASSIFIER-----\")\n",
    "    print(\"accuracy\",accuracy_score(y_data, ypred))\n",
    "    print(\"percision, recall, fscore,\",precision_recall_fscore_support(y_data,ypred))\n",
    "\n",
    "random_classifier(y)"
   ]
  },
  {
   "cell_type": "markdown",
   "metadata": {},
   "source": [
    "We can see that the accuracy of the baseline model is around 50%, as its only method is to guess. So if we have a better accuracy with our model, then it means that our model is good."
   ]
  },
  {
   "cell_type": "markdown",
   "metadata": {},
   "source": [
    "This model use texts to classify, so our features are texts transformed by “CountVectorizer”."
   ]
  },
  {
   "cell_type": "code",
   "execution_count": 27,
   "metadata": {},
   "outputs": [],
   "source": [
    "#sample a subset of negative samples\n",
    "a=df[df[\"label\"]==0].sample(100)\n",
    "b=df[df['label']==1]\n",
    "df=pd.concat([a,b])\n",
    "df.reset_index(drop=True, inplace=True)\n",
    "y=df['label']\n",
    "X=df[\"status_message\"]\n",
    "#transform texts with countvectorizer\n",
    "vectorizer = CountVectorizer()\n",
    "matrix = vectorizer.fit_transform(X)\n",
    "X = pd.DataFrame(matrix.toarray(),columns=vectorizer.get_feature_names_out())\n",
    "#split the data\n",
    "x_train,x_test,y_train,y_test=train_test_split(X,y,test_size=0.2)"
   ]
  },
  {
   "cell_type": "code",
   "execution_count": 28,
   "metadata": {},
   "outputs": [
    {
     "name": "stdout",
     "output_type": "stream",
     "text": [
      "ACCURACY: 0.7983193277310925\n",
      "NEGATIVE RECALL (Y=0): 0.125\n",
      "NEGATIVE PRECISION (Y=0): 0.16666666666666666\n",
      "POSITIVE RECALL (Y=1): 0.9029126213592233\n",
      "POSITIVE PRECISION (Y=1): 0.8691588785046729\n",
      "\n"
     ]
    },
    {
     "data": {
      "image/png": "[encoded data removed]",
      "text/plain": [
       "<Figure size 432x288 with 2 Axes>"
      ]
     },
     "metadata": {},
     "output_type": "display_data"
    }
   ],
   "source": [
    "def confusion_plot(y_data,y_pred):\n",
    "    print(\n",
    "        \"ACCURACY: \"+str(accuracy_score(y_data,y_pred))+\"\\n\"+\n",
    "        \"NEGATIVE RECALL (Y=0): \"+str(recall_score(y_data,y_pred,pos_label=0))+\"\\n\"+\n",
    "        \"NEGATIVE PRECISION (Y=0): \"+str(precision_score(y_data,y_pred,pos_label=0))+\"\\n\"+\n",
    "        \"POSITIVE RECALL (Y=1): \"+str(recall_score(y_data,y_pred,pos_label=1))+\"\\n\"+\n",
    "        \"POSITIVE PRECISION (Y=1): \"+str(precision_score(y_data,y_pred,pos_label=1))+\"\\n\"\n",
    "    )\n",
    "    cf=confusion_matrix(y_data, y_pred)\n",
    "    # customize the anno\n",
    "    group_names = [\"True 0\",\"False 1\",\"False 0\",\"True 1\"]\n",
    "    group_counts = [\"{0:0.0f}\".format(value) for value in cf.flatten()]\n",
    "    group_percentages = [\"{0:.2%}\".format(value) for value in cf.flatten()/np.sum(cf)]\n",
    "    labels = [f\"{v1}\\n{v2}\\n{v3}\" for v1, v2, v3 in zip(group_names,group_counts,group_percentages)]\n",
    "    labels = np.asarray(labels).reshape(2,2)\n",
    "    #plot the heatmap\n",
    "    fig=sns.heatmap(cf, annot=labels, fmt=\"\", cmap='Blues')\n",
    "    plt.title(\"Confusion Matrix of Texts - Decision Tree\",fontsize=18)\n",
    "    fig.set_xticklabels([\"Status liked\",\"Status not liked\"],fontsize=13)\n",
    "    fig.set_yticklabels([\"Status liked\",\"Status not liked\"],fontsize=13)\n",
    "    fig.set_xlabel(\"Predicted Labels\",fontsize=14)\n",
    "    fig.set_ylabel(\"True Labels\",fontsize=14)\n",
    "    plt.show()\n",
    "#fit the model with the best hyperparametres\n",
    "clf=SVC(C=1,kernel=\"linear\")\n",
    "clf.fit(x_train,y_train)\n",
    "yp_test=clf.predict(x_test)\n",
    "confusion_plot(y_test,yp_test)"
   ]
  },
  {
   "cell_type": "markdown",
   "metadata": {},
   "source": [
    "Conclusion"
   ]
  },
  {
   "cell_type": "markdown",
   "metadata": {},
   "source": [
    "This model is somewhat better than the baseline model, as its accuracy tends to be almost 80%. However, maybe due to the amount of data is not large enough or due to the fitness of this model to our dataset, it is not satisfying enough for me.\n",
    "Hope we can use other methods such as bagging to improve it later."
   ]
  }
 ],
 "metadata": {
  "kernelspec": {
   "display_name": "Python 3 (ipykernel)",
   "language": "python",
   "name": "python3"
  },
  "language_info": {
   "codemirror_mode": {
    "name": "ipython",
    "version": 3
   },
   "file_extension": ".py",
   "mimetype": "text/x-python",
   "name": "python",
   "nbconvert_exporter": "python",
   "pygments_lexer": "ipython3",
   "version": "3.9.12"
  },
  "vscode": {
   "interpreter": {
    "hash": "ec92d9ae88f3431bb6081fff3ea9c366482afeae4639ee182ffc6b9fbe6c4d59"
   }
  }
 },
 "nbformat": 4,
 "nbformat_minor": 2
}
